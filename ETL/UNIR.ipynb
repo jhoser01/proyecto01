{
 "cells": [
  {
   "cell_type": "code",
   "execution_count": 3,
   "metadata": {},
   "outputs": [],
   "source": [
    "import pandas as pd"
   ]
  },
  {
   "cell_type": "code",
   "execution_count": 10,
   "metadata": {},
   "outputs": [],
   "source": [
    "game = pd.read_csv(\"G:/Mi unidad/SOYHENRY/CIENCIA DE DATOS/CURSO/PROYECTOS/PI1_ML 2.0/DATA_LIMPIA/gameclean.csv\")\n",
    "item = pd.read_csv(\"G:/Mi unidad/SOYHENRY/CIENCIA DE DATOS/CURSO/PROYECTOS/PI1_ML 2.0/DATA_LIMPIA/itemclean.csv\")\n",
    "review = pd.read_csv(\"G:/Mi unidad/SOYHENRY/CIENCIA DE DATOS/CURSO/PROYECTOS/PI1_ML 2.0/DATA_LIMPIA/reviewclean.csv\")"
   ]
  },
  {
   "cell_type": "code",
   "execution_count": 6,
   "metadata": {},
   "outputs": [
    {
     "name": "stdout",
     "output_type": "stream",
     "text": [
      "<class 'pandas.core.frame.DataFrame'>\n",
      "RangeIndex: 32135 entries, 0 to 32134\n",
      "Data columns (total 15 columns):\n",
      " #   Column          Non-Null Count  Dtype  \n",
      "---  ------          --------------  -----  \n",
      " 0   publisher       24073 non-null  object \n",
      " 1   genres          28852 non-null  object \n",
      " 2   app_name        32133 non-null  object \n",
      " 3   title           30085 non-null  object \n",
      " 4   url             32135 non-null  object \n",
      " 5   release_date    30068 non-null  object \n",
      " 6   tags            31972 non-null  object \n",
      " 7   reviews_url     32133 non-null  object \n",
      " 8   discount_price  225 non-null    float64\n",
      " 9   specs           31465 non-null  object \n",
      " 10  price           30758 non-null  object \n",
      " 11  early_access    32135 non-null  bool   \n",
      " 12  id              32133 non-null  float64\n",
      " 13  metascore       2607 non-null   float64\n",
      " 14  developer       28836 non-null  object \n",
      "dtypes: bool(1), float64(3), object(11)\n",
      "memory usage: 3.5+ MB\n",
      "game  None\n"
     ]
    }
   ],
   "source": [
    "print(\"game \",game.info())\n"
   ]
  },
  {
   "cell_type": "code",
   "execution_count": 11,
   "metadata": {},
   "outputs": [
    {
     "name": "stdout",
     "output_type": "stream",
     "text": [
      "<class 'pandas.core.frame.DataFrame'>\n",
      "RangeIndex: 87625 entries, 0 to 87624\n",
      "Data columns (total 6 columns):\n",
      " #   Column            Non-Null Count  Dtype \n",
      "---  ------            --------------  ----- \n",
      " 0   user_id           87625 non-null  object\n",
      " 1   items_count       87625 non-null  int64 \n",
      " 2   steam_id          87625 non-null  int64 \n",
      " 3   user_url          87625 non-null  object\n",
      " 4   item_id           87625 non-null  object\n",
      " 5   playtime_forever  87625 non-null  object\n",
      "dtypes: int64(2), object(4)\n",
      "memory usage: 4.0+ MB\n",
      "item  None\n"
     ]
    }
   ],
   "source": [
    "print(\"item \", item.info())\n"
   ]
  },
  {
   "cell_type": "code",
   "execution_count": 8,
   "metadata": {},
   "outputs": [
    {
     "name": "stdout",
     "output_type": "stream",
     "text": [
      "<class 'pandas.core.frame.DataFrame'>\n",
      "RangeIndex: 25485 entries, 0 to 25484\n",
      "Data columns (total 4 columns):\n",
      " #   Column              Non-Null Count  Dtype \n",
      "---  ------              --------------  ----- \n",
      " 0   user_id             25485 non-null  object\n",
      " 1   user_url            25485 non-null  object\n",
      " 2   item_id             25485 non-null  object\n",
      " 3   sentiment_analysis  25485 non-null  object\n",
      "dtypes: object(4)\n",
      "memory usage: 796.5+ KB\n",
      "reviw  None\n"
     ]
    }
   ],
   "source": [
    "print(\"reviw \", review.info())"
   ]
  }
 ],
 "metadata": {
  "kernelspec": {
   "display_name": "henry",
   "language": "python",
   "name": "python3"
  },
  "language_info": {
   "codemirror_mode": {
    "name": "ipython",
    "version": 3
   },
   "file_extension": ".py",
   "mimetype": "text/x-python",
   "name": "python",
   "nbconvert_exporter": "python",
   "pygments_lexer": "ipython3",
   "version": "3.10.9"
  },
  "orig_nbformat": 4
 },
 "nbformat": 4,
 "nbformat_minor": 2
}
