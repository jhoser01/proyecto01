{
 "cells": [
  {
   "cell_type": "code",
   "execution_count": 1,
   "metadata": {},
   "outputs": [],
   "source": [
    "import pandas as pd\n",
    "import numpy as np\n",
    "import ast"
   ]
  },
  {
   "cell_type": "code",
   "execution_count": 5,
   "metadata": {},
   "outputs": [
    {
     "data": {
      "text/html": [
       "<div>\n",
       "<style scoped>\n",
       "    .dataframe tbody tr th:only-of-type {\n",
       "        vertical-align: middle;\n",
       "    }\n",
       "\n",
       "    .dataframe tbody tr th {\n",
       "        vertical-align: top;\n",
       "    }\n",
       "\n",
       "    .dataframe thead th {\n",
       "        text-align: right;\n",
       "    }\n",
       "</style>\n",
       "<table border=\"1\" class=\"dataframe\">\n",
       "  <thead>\n",
       "    <tr style=\"text-align: right;\">\n",
       "      <th></th>\n",
       "      <th>user_id</th>\n",
       "      <th>user_url</th>\n",
       "      <th>reviews</th>\n",
       "    </tr>\n",
       "  </thead>\n",
       "  <tbody>\n",
       "    <tr>\n",
       "      <th>0</th>\n",
       "      <td>76561197970982479</td>\n",
       "      <td>http://steamcommunity.com/profiles/76561197970...</td>\n",
       "      <td>[{'funny': '', 'posted': 'Posted November 5, 2...</td>\n",
       "    </tr>\n",
       "    <tr>\n",
       "      <th>1</th>\n",
       "      <td>js41637</td>\n",
       "      <td>http://steamcommunity.com/id/js41637</td>\n",
       "      <td>[{'funny': '', 'posted': 'Posted June 24, 2014...</td>\n",
       "    </tr>\n",
       "    <tr>\n",
       "      <th>2</th>\n",
       "      <td>evcentric</td>\n",
       "      <td>http://steamcommunity.com/id/evcentric</td>\n",
       "      <td>[{'funny': '', 'posted': 'Posted February 3.',...</td>\n",
       "    </tr>\n",
       "    <tr>\n",
       "      <th>3</th>\n",
       "      <td>doctr</td>\n",
       "      <td>http://steamcommunity.com/id/doctr</td>\n",
       "      <td>[{'funny': '', 'posted': 'Posted October 14, 2...</td>\n",
       "    </tr>\n",
       "    <tr>\n",
       "      <th>4</th>\n",
       "      <td>maplemage</td>\n",
       "      <td>http://steamcommunity.com/id/maplemage</td>\n",
       "      <td>[{'funny': '3 people found this review funny',...</td>\n",
       "    </tr>\n",
       "    <tr>\n",
       "      <th>5</th>\n",
       "      <td>Wackky</td>\n",
       "      <td>http://steamcommunity.com/id/Wackky</td>\n",
       "      <td>[{'funny': '', 'posted': 'Posted May 5, 2014.'...</td>\n",
       "    </tr>\n",
       "    <tr>\n",
       "      <th>6</th>\n",
       "      <td>76561198079601835</td>\n",
       "      <td>http://steamcommunity.com/profiles/76561198079...</td>\n",
       "      <td>[{'funny': '1 person found this review funny',...</td>\n",
       "    </tr>\n",
       "    <tr>\n",
       "      <th>7</th>\n",
       "      <td>MeaTCompany</td>\n",
       "      <td>http://steamcommunity.com/id/MeaTCompany</td>\n",
       "      <td>[{'funny': '', 'posted': 'Posted July 24.', 'l...</td>\n",
       "    </tr>\n",
       "    <tr>\n",
       "      <th>8</th>\n",
       "      <td>76561198089393905</td>\n",
       "      <td>http://steamcommunity.com/profiles/76561198089...</td>\n",
       "      <td>[{'funny': '5 people found this review funny',...</td>\n",
       "    </tr>\n",
       "    <tr>\n",
       "      <th>9</th>\n",
       "      <td>76561198156664158</td>\n",
       "      <td>http://steamcommunity.com/profiles/76561198156...</td>\n",
       "      <td>[{'funny': '', 'posted': 'Posted June 16.', 'l...</td>\n",
       "    </tr>\n",
       "  </tbody>\n",
       "</table>\n",
       "</div>"
      ],
      "text/plain": [
       "             user_id                                           user_url  \\\n",
       "0  76561197970982479  http://steamcommunity.com/profiles/76561197970...   \n",
       "1            js41637               http://steamcommunity.com/id/js41637   \n",
       "2          evcentric             http://steamcommunity.com/id/evcentric   \n",
       "3              doctr                 http://steamcommunity.com/id/doctr   \n",
       "4          maplemage             http://steamcommunity.com/id/maplemage   \n",
       "5             Wackky                http://steamcommunity.com/id/Wackky   \n",
       "6  76561198079601835  http://steamcommunity.com/profiles/76561198079...   \n",
       "7        MeaTCompany           http://steamcommunity.com/id/MeaTCompany   \n",
       "8  76561198089393905  http://steamcommunity.com/profiles/76561198089...   \n",
       "9  76561198156664158  http://steamcommunity.com/profiles/76561198156...   \n",
       "\n",
       "                                             reviews  \n",
       "0  [{'funny': '', 'posted': 'Posted November 5, 2...  \n",
       "1  [{'funny': '', 'posted': 'Posted June 24, 2014...  \n",
       "2  [{'funny': '', 'posted': 'Posted February 3.',...  \n",
       "3  [{'funny': '', 'posted': 'Posted October 14, 2...  \n",
       "4  [{'funny': '3 people found this review funny',...  \n",
       "5  [{'funny': '', 'posted': 'Posted May 5, 2014.'...  \n",
       "6  [{'funny': '1 person found this review funny',...  \n",
       "7  [{'funny': '', 'posted': 'Posted July 24.', 'l...  \n",
       "8  [{'funny': '5 people found this review funny',...  \n",
       "9  [{'funny': '', 'posted': 'Posted June 16.', 'l...  "
      ]
     },
     "execution_count": 5,
     "metadata": {},
     "output_type": "execute_result"
    }
   ],
   "source": [
    "#importamos el csv\n",
    "dfreview = pd.read_csv(\"G:/Mi unidad/SOYHENRY/CIENCIA DE DATOS/CURSO/PROYECTOS/PI1_ML 2.0/DATA_ORIGINAL/csv/reviews.csv\")\n",
    "#visualizamos el csv\n",
    "dfreview.head(10)"
   ]
  },
  {
   "cell_type": "code",
   "execution_count": 8,
   "metadata": {},
   "outputs": [
    {
     "data": {
      "text/plain": [
       "'[{\\'funny\\': \\'3 people found this review funny\\', \\'posted\\': \\'Posted April 15, 2014.\\', \\'last_edited\\': \\'\\', \\'item_id\\': \\'211420\\', \\'helpful\\': \\'35 of 43 people (81%) found this review helpful\\', \\'recommend\\': True, \\'review\\': \\'Git gud\\'}, {\\'funny\\': \\'1 person found this review funny\\', \\'posted\\': \\'Posted December 23, 2013.\\', \\'last_edited\\': \\'\\', \\'item_id\\': \\'211820\\', \\'helpful\\': \\'12 of 16 people (75%) found this review helpful\\', \\'recommend\\': True, \\'review\\': \"It\\'s like Terraria, you play for 9 hours straight, get endgame armour then stop playing until the next update.\"}, {\\'funny\\': \\'2 people found this review funny\\', \\'posted\\': \\'Posted March 14, 2014.\\', \\'last_edited\\': \\'\\', \\'item_id\\': \\'730\\', \\'helpful\\': \\'5 of 5 people (100%) found this review helpful\\', \\'recommend\\': True, \\'review\\': \\'Hold shift to win, Hold CTRL to lose.\\'}, {\\'funny\\': \\'\\', \\'posted\\': \\'Posted July 11, 2013.\\', \\'last_edited\\': \\'\\', \\'item_id\\': \\'204300\\', \\'helpful\\': \\'No ratings yet\\', \\'recommend\\': True, \\'review\\': \"OH YES, THIS GAME IS THE BEST, THEY ADD STUFF LIKE NEW CHARACTERS, AND LIKE A NEW MAP ONCE A YEAR, IT\\'S SO AWESOME, OH YES, IT\\'S SO AWESOMENAUTS, YES, YES, I\\'M GOOD AT THIS, YES, YES, GOOD, I\\'M GOOD, YES, GOOD, YOU ARE BAD, IM GOOD, YES, TOO GOOD, YES, IM NOT BAD, YES, GOOD.\"}]'"
      ]
     },
     "execution_count": 8,
     "metadata": {},
     "output_type": "execute_result"
    }
   ],
   "source": [
    "dfreview.loc[4, \"reviews\"]"
   ]
  },
  {
   "cell_type": "code",
   "execution_count": 9,
   "metadata": {},
   "outputs": [
    {
     "name": "stdout",
     "output_type": "stream",
     "text": [
      "Filas duplicadas:  313\n"
     ]
    }
   ],
   "source": [
    "#eliminamos aquellas filas que son iguales\n",
    "print(\"Filas duplicadas: \", dfreview.duplicated().sum())\n",
    "dfreview.drop_duplicates(inplace=True)"
   ]
  },
  {
   "cell_type": "code",
   "execution_count": 12,
   "metadata": {},
   "outputs": [],
   "source": [
    "#creamos funcion para desanidar diccionarios\n",
    "def obtener_valor(diccionario, clave):\n",
    "    if pd.isnull(diccionario):\n",
    "        return \"None\"\n",
    "    if not isinstance(diccionario, dict):\n",
    "        try:\n",
    "            diccionario = ast.literal_eval(diccionario)\n",
    "\n",
    "        except (AttributeError):\n",
    "            return None\n",
    "    if isinstance(diccionario, dict):\n",
    "        return diccionario.get(clave)\n",
    "    else:\n",
    "        return None"
   ]
  },
  {
   "cell_type": "code",
   "execution_count": 14,
   "metadata": {},
   "outputs": [],
   "source": [
    "#Creamos función para desanidar reviews (lista de diccionarios)\n",
    "def desanidador_ld(lista, clave):\n",
    "    \n",
    "    if np.all(pd.isnull(lista)):\n",
    "        return []\n",
    "    if not isinstance(lista, list):\n",
    "        try:\n",
    "            #lista = json.loads(lista.replace(\"'\", \"\\\"\").replace(\"None\", \"null\"))\n",
    "            lista = ast.literal_eval(lista)\n",
    "        except (ValueError, SyntaxError, AttributeError):\n",
    "            return []\n",
    "    if isinstance(lista, list):\n",
    "        valores = []\n",
    "        for i in lista:\n",
    "            valor= obtener_valor(i, clave)\n",
    "            if valor is not None:\n",
    "                valores.append(valor)\n",
    "            \n",
    "        if len(valores) == 0:  # Verificar si la lista está vacía\n",
    "            return []\n",
    "        else:\n",
    "            return valores\n",
    "    else:\n",
    "        return []"
   ]
  },
  {
   "cell_type": "code",
   "execution_count": 15,
   "metadata": {},
   "outputs": [
    {
     "data": {
      "text/plain": [
       "0                                    [1250, 22200, 43110]\n",
       "1                                [251610, 227300, 239030]\n",
       "2        [248820, 370360, 237930, 263360, 107200, 224500]\n",
       "3         [250320, 20920, 204100, 224600, 207610, 108710]\n",
       "4                           [211420, 211820, 730, 204300]\n",
       "                               ...                       \n",
       "25794                                            [261030]\n",
       "25795                                               [730]\n",
       "25796                                               [570]\n",
       "25797                           [233270, 130, 70, 362890]\n",
       "25798                                  [273110, 730, 440]\n",
       "Name: item_id, Length: 25485, dtype: object"
      ]
     },
     "execution_count": 15,
     "metadata": {},
     "output_type": "execute_result"
    }
   ],
   "source": [
    "dfreview[\"item_id\"]=dfreview[\"reviews\"].apply(lambda x: desanidador_ld(x, \"item_id\"))\n",
    "dfreview[\"item_id\"]"
   ]
  },
  {
   "cell_type": "code",
   "execution_count": 16,
   "metadata": {},
   "outputs": [
    {
     "data": {
      "text/plain": [
       "0        [Simple yet with great replayability. In my op...\n",
       "1        [I know what you think when you see this title...\n",
       "2        [A suitably punishing roguelike platformer.  W...\n",
       "3        [This game... is so fun. The fight sequences h...\n",
       "4        [Git gud, It's like Terraria, you play for 9 h...\n",
       "                               ...                        \n",
       "25794    [I cried in the end its so sadding ]'; I wish ...\n",
       "25795    [Gra naprawdę fajna.Ale jest kilka rzeczy do k...\n",
       "25796                                          [Well Done]\n",
       "25797    [this is a very fun and nice 80s themed shoote...\n",
       "25798    [had so much fun plaing this and collecting re...\n",
       "Name: review, Length: 25485, dtype: object"
      ]
     },
     "execution_count": 16,
     "metadata": {},
     "output_type": "execute_result"
    }
   ],
   "source": [
    "dfreview[\"review\"]=dfreview[\"reviews\"].apply(lambda x: desanidador_ld(x, \"review\"))\n",
    "dfreview[\"review\"]"
   ]
  },
  {
   "cell_type": "markdown",
   "metadata": {},
   "source": [
    "<h1>Análisis de sentimiento</h1>"
   ]
  },
  {
   "cell_type": "code",
   "execution_count": 17,
   "metadata": {},
   "outputs": [],
   "source": [
    "from nltk.sentiment.vader import SentimentIntensityAnalyzer\n",
    "import nltk"
   ]
  },
  {
   "cell_type": "code",
   "execution_count": 18,
   "metadata": {},
   "outputs": [
    {
     "name": "stderr",
     "output_type": "stream",
     "text": [
      "[nltk_data] Downloading package vader_lexicon to\n",
      "[nltk_data]     C:\\Users\\jhose\\AppData\\Roaming\\nltk_data...\n"
     ]
    },
    {
     "data": {
      "text/plain": [
       "True"
      ]
     },
     "execution_count": 18,
     "metadata": {},
     "output_type": "execute_result"
    }
   ],
   "source": [
    "# Descargar recursos necesarios para NLTK \n",
    "nltk.download('vader_lexicon')"
   ]
  },
  {
   "cell_type": "code",
   "execution_count": 19,
   "metadata": {},
   "outputs": [],
   "source": [
    "# Función para calcular el sentimiento de una lista de reseñas\n",
    "def analyze_sentiment(reviews):\n",
    "    sentiment_list = []  # Lista para almacenar los análisis de sentimiento\n",
    "    \n",
    "    if not reviews:\n",
    "        return [1]  # Valor 1 para listas de reseñas vacías (neutral)\n",
    "    \n",
    "    # Utilizar NLTK para análisis de sentimiento (VADER)\n",
    "    analyzer = SentimentIntensityAnalyzer()\n",
    "    \n",
    "    for review in reviews:\n",
    "        sentiment_scores = analyzer.polarity_scores(review)\n",
    "        \n",
    "        # Calcular un valor compuesto de sentimiento\n",
    "        compound_score = sentiment_scores['compound']\n",
    "        \n",
    "        if compound_score >= 0.05:\n",
    "            sentiment_list.append(2)  # Valor 2 para reseñas positivas\n",
    "        elif compound_score <= -0.05:\n",
    "            sentiment_list.append(0)  # Valor 0 para reseñas negativas\n",
    "        else:\n",
    "            sentiment_list.append(1)  # Valor 1 para reseñas neutrales\n",
    "    \n",
    "    return sentiment_list"
   ]
  },
  {
   "cell_type": "code",
   "execution_count": 20,
   "metadata": {},
   "outputs": [],
   "source": [
    "dfreview['sentiment_analysis'] = dfreview['review'].apply(lambda review_list: analyze_sentiment(review_list))\n"
   ]
  },
  {
   "cell_type": "code",
   "execution_count": 21,
   "metadata": {},
   "outputs": [
    {
     "data": {
      "text/plain": [
       "0                 [2, 2, 2]\n",
       "1                 [2, 2, 2]\n",
       "2        [2, 2, 2, 1, 2, 2]\n",
       "3        [2, 2, 2, 2, 0, 2]\n",
       "4              [1, 2, 2, 2]\n",
       "                ...        \n",
       "25794                   [2]\n",
       "25795                   [1]\n",
       "25796                   [2]\n",
       "25797          [2, 2, 2, 2]\n",
       "25798             [2, 2, 2]\n",
       "Name: sentiment_analysis, Length: 25485, dtype: object"
      ]
     },
     "execution_count": 21,
     "metadata": {},
     "output_type": "execute_result"
    }
   ],
   "source": [
    "dfreview['sentiment_analysis']"
   ]
  },
  {
   "cell_type": "code",
   "execution_count": 22,
   "metadata": {},
   "outputs": [],
   "source": [
    "#Borramos las columnas que ya no serán necesarias\n",
    "dfreview.drop([\"reviews\", \"review\"], axis=1, inplace=True)"
   ]
  },
  {
   "cell_type": "code",
   "execution_count": 23,
   "metadata": {},
   "outputs": [
    {
     "name": "stdout",
     "output_type": "stream",
     "text": [
      "<class 'pandas.core.frame.DataFrame'>\n",
      "Int64Index: 25485 entries, 0 to 25798\n",
      "Data columns (total 4 columns):\n",
      " #   Column              Non-Null Count  Dtype \n",
      "---  ------              --------------  ----- \n",
      " 0   user_id             25485 non-null  object\n",
      " 1   user_url            25485 non-null  object\n",
      " 2   item_id             25485 non-null  object\n",
      " 3   sentiment_analysis  25485 non-null  object\n",
      "dtypes: object(4)\n",
      "memory usage: 995.5+ KB\n"
     ]
    }
   ],
   "source": [
    "dfreview.info()"
   ]
  },
  {
   "cell_type": "code",
   "execution_count": 26,
   "metadata": {},
   "outputs": [],
   "source": [
    "#generamos el archivo csv limpio\n",
    "dfreview.to_csv(\"G:/Mi unidad/SOYHENRY/CIENCIA DE DATOS/CURSO/PROYECTOS/PI1_ML 2.0/DATA_LIMPIA/reviewclean.csv\", index=False)"
   ]
  }
 ],
 "metadata": {
  "kernelspec": {
   "display_name": "henry",
   "language": "python",
   "name": "python3"
  },
  "language_info": {
   "codemirror_mode": {
    "name": "ipython",
    "version": 3
   },
   "file_extension": ".py",
   "mimetype": "text/x-python",
   "name": "python",
   "nbconvert_exporter": "python",
   "pygments_lexer": "ipython3",
   "version": "3.10.9"
  },
  "orig_nbformat": 4
 },
 "nbformat": 4,
 "nbformat_minor": 2
}
